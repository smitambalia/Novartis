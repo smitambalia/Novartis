{
 "cells": [
  {
   "cell_type": "code",
   "execution_count": 1,
   "metadata": {},
   "outputs": [],
   "source": [
    "# importing required libraries\n",
    "%matplotlib inline\n",
    "import warnings\n",
    "warnings.filterwarnings(\"ignore\")\n",
    "import matplotlib as plt \n",
    "import seaborn as sns\n",
    "import pandas as pd\n",
    "import numpy as np\n",
    "from sklearn import metrics\n",
    "from sklearn.metrics import roc_curve, auc\n",
    "\n",
    "from sklearn.preprocessing import StandardScaler\n",
    "\n",
    "import matplotlib.pyplot as plt\n",
    "from sklearn.model_selection import GridSearchCV,RandomizedSearchCV\n",
    "import xgboost as xgb\n"
   ]
  },
  {
   "cell_type": "code",
   "execution_count": 2,
   "metadata": {},
   "outputs": [],
   "source": [
    "#  Reading the train and test datasets \n",
    "train = pd.read_csv('Train.csv')\n",
    "test = pd.read_csv('Test.csv')"
   ]
  },
  {
   "cell_type": "code",
   "execution_count": 3,
   "metadata": {},
   "outputs": [
    {
     "data": {
      "text/plain": [
       "Index(['INCIDENT_ID', 'DATE', 'X_1', 'X_2', 'X_3', 'X_4', 'X_5', 'X_6', 'X_7',\n",
       "       'X_8', 'X_9', 'X_10', 'X_11', 'X_12', 'X_13', 'X_14', 'X_15',\n",
       "       'MULTIPLE_OFFENSE'],\n",
       "      dtype='object')"
      ]
     },
     "execution_count": 3,
     "metadata": {},
     "output_type": "execute_result"
    }
   ],
   "source": [
    "train.columns"
   ]
  },
  {
   "cell_type": "code",
   "execution_count": 4,
   "metadata": {},
   "outputs": [
    {
     "data": {
      "text/html": [
       "<div>\n",
       "<style scoped>\n",
       "    .dataframe tbody tr th:only-of-type {\n",
       "        vertical-align: middle;\n",
       "    }\n",
       "\n",
       "    .dataframe tbody tr th {\n",
       "        vertical-align: top;\n",
       "    }\n",
       "\n",
       "    .dataframe thead th {\n",
       "        text-align: right;\n",
       "    }\n",
       "</style>\n",
       "<table border=\"1\" class=\"dataframe\">\n",
       "  <thead>\n",
       "    <tr style=\"text-align: right;\">\n",
       "      <th></th>\n",
       "      <th>INCIDENT_ID</th>\n",
       "      <th>DATE</th>\n",
       "      <th>X_1</th>\n",
       "      <th>X_2</th>\n",
       "      <th>X_3</th>\n",
       "      <th>X_4</th>\n",
       "      <th>X_5</th>\n",
       "      <th>X_6</th>\n",
       "      <th>X_7</th>\n",
       "      <th>X_8</th>\n",
       "      <th>X_9</th>\n",
       "      <th>X_10</th>\n",
       "      <th>X_11</th>\n",
       "      <th>X_12</th>\n",
       "      <th>X_13</th>\n",
       "      <th>X_14</th>\n",
       "      <th>X_15</th>\n",
       "      <th>MULTIPLE_OFFENSE</th>\n",
       "    </tr>\n",
       "  </thead>\n",
       "  <tbody>\n",
       "    <tr>\n",
       "      <th>19022</th>\n",
       "      <td>CR_1141</td>\n",
       "      <td>1991-01-01</td>\n",
       "      <td>0</td>\n",
       "      <td>22</td>\n",
       "      <td>22</td>\n",
       "      <td>7</td>\n",
       "      <td>3</td>\n",
       "      <td>8</td>\n",
       "      <td>3</td>\n",
       "      <td>7</td>\n",
       "      <td>2</td>\n",
       "      <td>2</td>\n",
       "      <td>0</td>\n",
       "      <td>2.0</td>\n",
       "      <td>72</td>\n",
       "      <td>142</td>\n",
       "      <td>34</td>\n",
       "      <td>1</td>\n",
       "    </tr>\n",
       "    <tr>\n",
       "      <th>13104</th>\n",
       "      <td>CR_2248</td>\n",
       "      <td>1991-01-02</td>\n",
       "      <td>0</td>\n",
       "      <td>33</td>\n",
       "      <td>32</td>\n",
       "      <td>2</td>\n",
       "      <td>1</td>\n",
       "      <td>7</td>\n",
       "      <td>1</td>\n",
       "      <td>1</td>\n",
       "      <td>6</td>\n",
       "      <td>1</td>\n",
       "      <td>249</td>\n",
       "      <td>1.0</td>\n",
       "      <td>72</td>\n",
       "      <td>142</td>\n",
       "      <td>34</td>\n",
       "      <td>1</td>\n",
       "    </tr>\n",
       "  </tbody>\n",
       "</table>\n",
       "</div>"
      ],
      "text/plain": [
       "      INCIDENT_ID       DATE  X_1  X_2  X_3  X_4  X_5  X_6  X_7  X_8  X_9  \\\n",
       "19022     CR_1141 1991-01-01    0   22   22    7    3    8    3    7    2   \n",
       "13104     CR_2248 1991-01-02    0   33   32    2    1    7    1    1    6   \n",
       "\n",
       "       X_10  X_11  X_12  X_13  X_14  X_15  MULTIPLE_OFFENSE  \n",
       "19022     2     0   2.0    72   142    34                 1  \n",
       "13104     1   249   1.0    72   142    34                 1  "
      ]
     },
     "execution_count": 4,
     "metadata": {},
     "output_type": "execute_result"
    }
   ],
   "source": [
    "col = 'DATE'\n",
    "\n",
    "#sort dataframe based on time pandas python: https://stackoverflow.com/a/49702492/4084039\n",
    "#sorting by date for time based splitting \n",
    "train[col] = pd.to_datetime(train[col])\n",
    "train.sort_values(by=[col], inplace=True)\n",
    "\n",
    "train.head(2)"
   ]
  },
  {
   "cell_type": "code",
   "execution_count": 5,
   "metadata": {},
   "outputs": [
    {
     "data": {
      "text/html": [
       "<div>\n",
       "<style scoped>\n",
       "    .dataframe tbody tr th:only-of-type {\n",
       "        vertical-align: middle;\n",
       "    }\n",
       "\n",
       "    .dataframe tbody tr th {\n",
       "        vertical-align: top;\n",
       "    }\n",
       "\n",
       "    .dataframe thead th {\n",
       "        text-align: right;\n",
       "    }\n",
       "</style>\n",
       "<table border=\"1\" class=\"dataframe\">\n",
       "  <thead>\n",
       "    <tr style=\"text-align: right;\">\n",
       "      <th></th>\n",
       "      <th>INCIDENT_ID</th>\n",
       "      <th>DATE</th>\n",
       "      <th>X_1</th>\n",
       "      <th>X_2</th>\n",
       "      <th>X_3</th>\n",
       "      <th>X_4</th>\n",
       "      <th>X_5</th>\n",
       "      <th>X_6</th>\n",
       "      <th>X_7</th>\n",
       "      <th>X_8</th>\n",
       "      <th>X_9</th>\n",
       "      <th>X_10</th>\n",
       "      <th>X_11</th>\n",
       "      <th>X_12</th>\n",
       "      <th>X_13</th>\n",
       "      <th>X_14</th>\n",
       "      <th>X_15</th>\n",
       "    </tr>\n",
       "  </thead>\n",
       "  <tbody>\n",
       "    <tr>\n",
       "      <th>3319</th>\n",
       "      <td>CR_3153</td>\n",
       "      <td>1991-01-02</td>\n",
       "      <td>1</td>\n",
       "      <td>36</td>\n",
       "      <td>34</td>\n",
       "      <td>2</td>\n",
       "      <td>1</td>\n",
       "      <td>15</td>\n",
       "      <td>10</td>\n",
       "      <td>1</td>\n",
       "      <td>6</td>\n",
       "      <td>1</td>\n",
       "      <td>249</td>\n",
       "      <td>1.0</td>\n",
       "      <td>92</td>\n",
       "      <td>93</td>\n",
       "      <td>34</td>\n",
       "    </tr>\n",
       "    <tr>\n",
       "      <th>6576</th>\n",
       "      <td>CR_1413</td>\n",
       "      <td>1991-01-03</td>\n",
       "      <td>0</td>\n",
       "      <td>25</td>\n",
       "      <td>25</td>\n",
       "      <td>9</td>\n",
       "      <td>0</td>\n",
       "      <td>3</td>\n",
       "      <td>5</td>\n",
       "      <td>0</td>\n",
       "      <td>5</td>\n",
       "      <td>1</td>\n",
       "      <td>316</td>\n",
       "      <td>1.0</td>\n",
       "      <td>18</td>\n",
       "      <td>142</td>\n",
       "      <td>34</td>\n",
       "    </tr>\n",
       "  </tbody>\n",
       "</table>\n",
       "</div>"
      ],
      "text/plain": [
       "     INCIDENT_ID       DATE  X_1  X_2  X_3  X_4  X_5  X_6  X_7  X_8  X_9  \\\n",
       "3319     CR_3153 1991-01-02    1   36   34    2    1   15   10    1    6   \n",
       "6576     CR_1413 1991-01-03    0   25   25    9    0    3    5    0    5   \n",
       "\n",
       "      X_10  X_11  X_12  X_13  X_14  X_15  \n",
       "3319     1   249   1.0    92    93    34  \n",
       "6576     1   316   1.0    18   142    34  "
      ]
     },
     "execution_count": 5,
     "metadata": {},
     "output_type": "execute_result"
    }
   ],
   "source": [
    "#sort dataframe based on time pandas python: https://stackoverflow.com/a/49702492/4084039\n",
    "#sorting by date for time based splitting \n",
    "test[col] = pd.to_datetime(test[col])\n",
    "test.sort_values(by=[col], inplace=True)\n",
    "\n",
    "test.head(2)"
   ]
  },
  {
   "cell_type": "code",
   "execution_count": 6,
   "metadata": {},
   "outputs": [
    {
     "data": {
      "text/plain": [
       "1    22788\n",
       "0     1068\n",
       "Name: MULTIPLE_OFFENSE, dtype: int64"
      ]
     },
     "execution_count": 6,
     "metadata": {},
     "output_type": "execute_result"
    }
   ],
   "source": [
    "# count of values for the target variable \n",
    "# datasets are highly unbalanced \n",
    "train['MULTIPLE_OFFENSE'].value_counts()"
   ]
  },
  {
   "cell_type": "code",
   "execution_count": 7,
   "metadata": {},
   "outputs": [
    {
     "name": "stdout",
     "output_type": "stream",
     "text": [
      "MULTIPLE_OFFENSE = YES: 95.52313883299799% and MULTIPLE_OFFENSE = NO: 4.476861167002013%\n"
     ]
    }
   ],
   "source": [
    "# went_on_backorder data sets are highly unbalanced as 99.33% bickorder = no  and only 0.67% = yes \n",
    "print(\"MULTIPLE_OFFENSE = YES: {}% and MULTIPLE_OFFENSE = NO: {}%\".format((22788/23856)*100, ((1068/23856)*100)))"
   ]
  },
  {
   "cell_type": "code",
   "execution_count": 8,
   "metadata": {},
   "outputs": [
    {
     "name": "stdout",
     "output_type": "stream",
     "text": [
      "<class 'pandas.core.frame.DataFrame'>\n",
      "Int64Index: 23856 entries, 19022 to 14034\n",
      "Data columns (total 18 columns):\n",
      " #   Column            Non-Null Count  Dtype         \n",
      "---  ------            --------------  -----         \n",
      " 0   INCIDENT_ID       23856 non-null  object        \n",
      " 1   DATE              23856 non-null  datetime64[ns]\n",
      " 2   X_1               23856 non-null  int64         \n",
      " 3   X_2               23856 non-null  int64         \n",
      " 4   X_3               23856 non-null  int64         \n",
      " 5   X_4               23856 non-null  int64         \n",
      " 6   X_5               23856 non-null  int64         \n",
      " 7   X_6               23856 non-null  int64         \n",
      " 8   X_7               23856 non-null  int64         \n",
      " 9   X_8               23856 non-null  int64         \n",
      " 10  X_9               23856 non-null  int64         \n",
      " 11  X_10              23856 non-null  int64         \n",
      " 12  X_11              23856 non-null  int64         \n",
      " 13  X_12              23674 non-null  float64       \n",
      " 14  X_13              23856 non-null  int64         \n",
      " 15  X_14              23856 non-null  int64         \n",
      " 16  X_15              23856 non-null  int64         \n",
      " 17  MULTIPLE_OFFENSE  23856 non-null  int64         \n",
      "dtypes: datetime64[ns](1), float64(1), int64(15), object(1)\n",
      "memory usage: 3.5+ MB\n"
     ]
    }
   ],
   "source": [
    "# finding the information about the train data\n",
    "train.info()"
   ]
  },
  {
   "cell_type": "code",
   "execution_count": 9,
   "metadata": {},
   "outputs": [
    {
     "name": "stdout",
     "output_type": "stream",
     "text": [
      "<class 'pandas.core.frame.DataFrame'>\n",
      "Int64Index: 15903 entries, 3319 to 2057\n",
      "Data columns (total 17 columns):\n",
      " #   Column       Non-Null Count  Dtype         \n",
      "---  ------       --------------  -----         \n",
      " 0   INCIDENT_ID  15903 non-null  object        \n",
      " 1   DATE         15903 non-null  datetime64[ns]\n",
      " 2   X_1          15903 non-null  int64         \n",
      " 3   X_2          15903 non-null  int64         \n",
      " 4   X_3          15903 non-null  int64         \n",
      " 5   X_4          15903 non-null  int64         \n",
      " 6   X_5          15903 non-null  int64         \n",
      " 7   X_6          15903 non-null  int64         \n",
      " 8   X_7          15903 non-null  int64         \n",
      " 9   X_8          15903 non-null  int64         \n",
      " 10  X_9          15903 non-null  int64         \n",
      " 11  X_10         15903 non-null  int64         \n",
      " 12  X_11         15903 non-null  int64         \n",
      " 13  X_12         15776 non-null  float64       \n",
      " 14  X_13         15903 non-null  int64         \n",
      " 15  X_14         15903 non-null  int64         \n",
      " 16  X_15         15903 non-null  int64         \n",
      "dtypes: datetime64[ns](1), float64(1), int64(14), object(1)\n",
      "memory usage: 2.2+ MB\n"
     ]
    }
   ],
   "source": [
    "# finding the information about the test data\n",
    "test.info()"
   ]
  },
  {
   "cell_type": "code",
   "execution_count": 10,
   "metadata": {},
   "outputs": [],
   "source": [
    "test_incidentID = test['INCIDENT_ID']"
   ]
  },
  {
   "cell_type": "code",
   "execution_count": 11,
   "metadata": {},
   "outputs": [],
   "source": [
    "# Dropping Unnecessary columns from the datasets\n",
    "train.drop(['INCIDENT_ID','DATE'],axis=1,inplace=True)\n",
    "test.drop(['INCIDENT_ID','DATE'],axis=1,inplace=True)"
   ]
  },
  {
   "cell_type": "code",
   "execution_count": 12,
   "metadata": {},
   "outputs": [
    {
     "data": {
      "text/html": [
       "<div>\n",
       "<style scoped>\n",
       "    .dataframe tbody tr th:only-of-type {\n",
       "        vertical-align: middle;\n",
       "    }\n",
       "\n",
       "    .dataframe tbody tr th {\n",
       "        vertical-align: top;\n",
       "    }\n",
       "\n",
       "    .dataframe thead th {\n",
       "        text-align: right;\n",
       "    }\n",
       "</style>\n",
       "<table border=\"1\" class=\"dataframe\">\n",
       "  <thead>\n",
       "    <tr style=\"text-align: right;\">\n",
       "      <th></th>\n",
       "      <th>X_1</th>\n",
       "      <th>X_2</th>\n",
       "      <th>X_3</th>\n",
       "      <th>X_4</th>\n",
       "      <th>X_5</th>\n",
       "      <th>X_6</th>\n",
       "      <th>X_7</th>\n",
       "      <th>X_8</th>\n",
       "      <th>X_9</th>\n",
       "      <th>X_10</th>\n",
       "      <th>X_11</th>\n",
       "      <th>X_12</th>\n",
       "      <th>X_13</th>\n",
       "      <th>X_14</th>\n",
       "      <th>X_15</th>\n",
       "      <th>MULTIPLE_OFFENSE</th>\n",
       "    </tr>\n",
       "  </thead>\n",
       "  <tbody>\n",
       "    <tr>\n",
       "      <th>count</th>\n",
       "      <td>23856.000000</td>\n",
       "      <td>23856.000000</td>\n",
       "      <td>23856.000000</td>\n",
       "      <td>23856.000000</td>\n",
       "      <td>23856.000000</td>\n",
       "      <td>23856.000000</td>\n",
       "      <td>23856.000000</td>\n",
       "      <td>23856.000000</td>\n",
       "      <td>23856.000000</td>\n",
       "      <td>23856.000000</td>\n",
       "      <td>23856.000000</td>\n",
       "      <td>23674.000000</td>\n",
       "      <td>23856.000000</td>\n",
       "      <td>23856.000000</td>\n",
       "      <td>23856.000000</td>\n",
       "      <td>23856.000000</td>\n",
       "    </tr>\n",
       "    <tr>\n",
       "      <th>mean</th>\n",
       "      <td>0.483778</td>\n",
       "      <td>24.791206</td>\n",
       "      <td>24.637450</td>\n",
       "      <td>4.276744</td>\n",
       "      <td>2.455609</td>\n",
       "      <td>6.154175</td>\n",
       "      <td>4.876509</td>\n",
       "      <td>0.972460</td>\n",
       "      <td>4.924128</td>\n",
       "      <td>1.244802</td>\n",
       "      <td>206.954519</td>\n",
       "      <td>0.974064</td>\n",
       "      <td>85.237383</td>\n",
       "      <td>72.674296</td>\n",
       "      <td>33.464747</td>\n",
       "      <td>0.955231</td>\n",
       "    </tr>\n",
       "    <tr>\n",
       "      <th>std</th>\n",
       "      <td>1.439738</td>\n",
       "      <td>15.240231</td>\n",
       "      <td>15.135093</td>\n",
       "      <td>2.944672</td>\n",
       "      <td>1.963095</td>\n",
       "      <td>4.471756</td>\n",
       "      <td>3.881931</td>\n",
       "      <td>1.453144</td>\n",
       "      <td>1.362625</td>\n",
       "      <td>1.119301</td>\n",
       "      <td>93.033348</td>\n",
       "      <td>1.167725</td>\n",
       "      <td>27.597226</td>\n",
       "      <td>43.297320</td>\n",
       "      <td>8.386834</td>\n",
       "      <td>0.206800</td>\n",
       "    </tr>\n",
       "    <tr>\n",
       "      <th>min</th>\n",
       "      <td>0.000000</td>\n",
       "      <td>0.000000</td>\n",
       "      <td>0.000000</td>\n",
       "      <td>0.000000</td>\n",
       "      <td>0.000000</td>\n",
       "      <td>1.000000</td>\n",
       "      <td>0.000000</td>\n",
       "      <td>0.000000</td>\n",
       "      <td>0.000000</td>\n",
       "      <td>1.000000</td>\n",
       "      <td>0.000000</td>\n",
       "      <td>0.000000</td>\n",
       "      <td>0.000000</td>\n",
       "      <td>0.000000</td>\n",
       "      <td>0.000000</td>\n",
       "      <td>0.000000</td>\n",
       "    </tr>\n",
       "    <tr>\n",
       "      <th>25%</th>\n",
       "      <td>0.000000</td>\n",
       "      <td>7.000000</td>\n",
       "      <td>8.000000</td>\n",
       "      <td>2.000000</td>\n",
       "      <td>1.000000</td>\n",
       "      <td>3.000000</td>\n",
       "      <td>2.000000</td>\n",
       "      <td>0.000000</td>\n",
       "      <td>5.000000</td>\n",
       "      <td>1.000000</td>\n",
       "      <td>174.000000</td>\n",
       "      <td>1.000000</td>\n",
       "      <td>72.000000</td>\n",
       "      <td>29.000000</td>\n",
       "      <td>34.000000</td>\n",
       "      <td>1.000000</td>\n",
       "    </tr>\n",
       "    <tr>\n",
       "      <th>50%</th>\n",
       "      <td>0.000000</td>\n",
       "      <td>24.000000</td>\n",
       "      <td>24.000000</td>\n",
       "      <td>4.000000</td>\n",
       "      <td>3.000000</td>\n",
       "      <td>5.000000</td>\n",
       "      <td>4.000000</td>\n",
       "      <td>1.000000</td>\n",
       "      <td>5.000000</td>\n",
       "      <td>1.000000</td>\n",
       "      <td>249.000000</td>\n",
       "      <td>1.000000</td>\n",
       "      <td>98.000000</td>\n",
       "      <td>62.000000</td>\n",
       "      <td>34.000000</td>\n",
       "      <td>1.000000</td>\n",
       "    </tr>\n",
       "    <tr>\n",
       "      <th>75%</th>\n",
       "      <td>0.000000</td>\n",
       "      <td>36.000000</td>\n",
       "      <td>35.000000</td>\n",
       "      <td>6.000000</td>\n",
       "      <td>5.000000</td>\n",
       "      <td>8.000000</td>\n",
       "      <td>7.000000</td>\n",
       "      <td>1.000000</td>\n",
       "      <td>6.000000</td>\n",
       "      <td>1.000000</td>\n",
       "      <td>249.000000</td>\n",
       "      <td>1.000000</td>\n",
       "      <td>103.000000</td>\n",
       "      <td>107.000000</td>\n",
       "      <td>34.000000</td>\n",
       "      <td>1.000000</td>\n",
       "    </tr>\n",
       "    <tr>\n",
       "      <th>max</th>\n",
       "      <td>7.000000</td>\n",
       "      <td>52.000000</td>\n",
       "      <td>52.000000</td>\n",
       "      <td>10.000000</td>\n",
       "      <td>5.000000</td>\n",
       "      <td>19.000000</td>\n",
       "      <td>18.000000</td>\n",
       "      <td>99.000000</td>\n",
       "      <td>6.000000</td>\n",
       "      <td>90.000000</td>\n",
       "      <td>332.000000</td>\n",
       "      <td>90.000000</td>\n",
       "      <td>116.000000</td>\n",
       "      <td>142.000000</td>\n",
       "      <td>50.000000</td>\n",
       "      <td>1.000000</td>\n",
       "    </tr>\n",
       "  </tbody>\n",
       "</table>\n",
       "</div>"
      ],
      "text/plain": [
       "                X_1           X_2           X_3           X_4           X_5  \\\n",
       "count  23856.000000  23856.000000  23856.000000  23856.000000  23856.000000   \n",
       "mean       0.483778     24.791206     24.637450      4.276744      2.455609   \n",
       "std        1.439738     15.240231     15.135093      2.944672      1.963095   \n",
       "min        0.000000      0.000000      0.000000      0.000000      0.000000   \n",
       "25%        0.000000      7.000000      8.000000      2.000000      1.000000   \n",
       "50%        0.000000     24.000000     24.000000      4.000000      3.000000   \n",
       "75%        0.000000     36.000000     35.000000      6.000000      5.000000   \n",
       "max        7.000000     52.000000     52.000000     10.000000      5.000000   \n",
       "\n",
       "                X_6           X_7           X_8           X_9          X_10  \\\n",
       "count  23856.000000  23856.000000  23856.000000  23856.000000  23856.000000   \n",
       "mean       6.154175      4.876509      0.972460      4.924128      1.244802   \n",
       "std        4.471756      3.881931      1.453144      1.362625      1.119301   \n",
       "min        1.000000      0.000000      0.000000      0.000000      1.000000   \n",
       "25%        3.000000      2.000000      0.000000      5.000000      1.000000   \n",
       "50%        5.000000      4.000000      1.000000      5.000000      1.000000   \n",
       "75%        8.000000      7.000000      1.000000      6.000000      1.000000   \n",
       "max       19.000000     18.000000     99.000000      6.000000     90.000000   \n",
       "\n",
       "               X_11          X_12          X_13          X_14          X_15  \\\n",
       "count  23856.000000  23674.000000  23856.000000  23856.000000  23856.000000   \n",
       "mean     206.954519      0.974064     85.237383     72.674296     33.464747   \n",
       "std       93.033348      1.167725     27.597226     43.297320      8.386834   \n",
       "min        0.000000      0.000000      0.000000      0.000000      0.000000   \n",
       "25%      174.000000      1.000000     72.000000     29.000000     34.000000   \n",
       "50%      249.000000      1.000000     98.000000     62.000000     34.000000   \n",
       "75%      249.000000      1.000000    103.000000    107.000000     34.000000   \n",
       "max      332.000000     90.000000    116.000000    142.000000     50.000000   \n",
       "\n",
       "       MULTIPLE_OFFENSE  \n",
       "count      23856.000000  \n",
       "mean           0.955231  \n",
       "std            0.206800  \n",
       "min            0.000000  \n",
       "25%            1.000000  \n",
       "50%            1.000000  \n",
       "75%            1.000000  \n",
       "max            1.000000  "
      ]
     },
     "execution_count": 12,
     "metadata": {},
     "output_type": "execute_result"
    }
   ],
   "source": [
    "train.describe()"
   ]
  },
  {
   "cell_type": "code",
   "execution_count": 13,
   "metadata": {},
   "outputs": [
    {
     "data": {
      "text/html": [
       "<div>\n",
       "<style scoped>\n",
       "    .dataframe tbody tr th:only-of-type {\n",
       "        vertical-align: middle;\n",
       "    }\n",
       "\n",
       "    .dataframe tbody tr th {\n",
       "        vertical-align: top;\n",
       "    }\n",
       "\n",
       "    .dataframe thead th {\n",
       "        text-align: right;\n",
       "    }\n",
       "</style>\n",
       "<table border=\"1\" class=\"dataframe\">\n",
       "  <thead>\n",
       "    <tr style=\"text-align: right;\">\n",
       "      <th></th>\n",
       "      <th>X_1</th>\n",
       "      <th>X_2</th>\n",
       "      <th>X_3</th>\n",
       "      <th>X_4</th>\n",
       "      <th>X_5</th>\n",
       "      <th>X_6</th>\n",
       "      <th>X_7</th>\n",
       "      <th>X_8</th>\n",
       "      <th>X_9</th>\n",
       "      <th>X_10</th>\n",
       "      <th>X_11</th>\n",
       "      <th>X_12</th>\n",
       "      <th>X_13</th>\n",
       "      <th>X_14</th>\n",
       "      <th>X_15</th>\n",
       "    </tr>\n",
       "  </thead>\n",
       "  <tbody>\n",
       "    <tr>\n",
       "      <th>19022</th>\n",
       "      <td>0</td>\n",
       "      <td>22</td>\n",
       "      <td>22</td>\n",
       "      <td>7</td>\n",
       "      <td>3</td>\n",
       "      <td>8</td>\n",
       "      <td>3</td>\n",
       "      <td>7</td>\n",
       "      <td>2</td>\n",
       "      <td>2</td>\n",
       "      <td>0</td>\n",
       "      <td>2.0</td>\n",
       "      <td>72</td>\n",
       "      <td>142</td>\n",
       "      <td>34</td>\n",
       "    </tr>\n",
       "  </tbody>\n",
       "</table>\n",
       "</div>"
      ],
      "text/plain": [
       "       X_1  X_2  X_3  X_4  X_5  X_6  X_7  X_8  X_9  X_10  X_11  X_12  X_13  \\\n",
       "19022    0   22   22    7    3    8    3    7    2     2     0   2.0    72   \n",
       "\n",
       "       X_14  X_15  \n",
       "19022   142    34  "
      ]
     },
     "execution_count": 13,
     "metadata": {},
     "output_type": "execute_result"
    }
   ],
   "source": [
    "# assigning MULTIPLE_OFFENSE to y and drop from the dataset\n",
    "y = train[\"MULTIPLE_OFFENSE\"]\n",
    "train.drop(['MULTIPLE_OFFENSE'],axis=1,inplace=True)\n",
    "train.head(1)"
   ]
  },
  {
   "cell_type": "code",
   "execution_count": 14,
   "metadata": {},
   "outputs": [],
   "source": [
    "x = train"
   ]
  },
  {
   "cell_type": "code",
   "execution_count": 15,
   "metadata": {},
   "outputs": [],
   "source": [
    "# splitting the datasets with 80% for training and 20% testing , used stratify = y as data is highly inbalance  \n",
    "from sklearn.model_selection import train_test_split\n",
    "X_train, X_cv, y_train, y_cv = train_test_split(x, y, test_size=0.2, stratify=y)"
   ]
  },
  {
   "cell_type": "code",
   "execution_count": 16,
   "metadata": {},
   "outputs": [],
   "source": [
    "# Standardizing the features by centering and scaling\n",
    "scalar = StandardScaler()\n",
    "scalar.fit(X_train)\n",
    "train = scalar.transform(X_train)\n",
    "test = scalar.transform(test)\n",
    "cv = scalar.transform(X_cv)\n",
    "train = pd.DataFrame(train)\n",
    "test = pd.DataFrame(test)\n",
    "cv = pd.DataFrame(cv)"
   ]
  },
  {
   "cell_type": "code",
   "execution_count": 17,
   "metadata": {},
   "outputs": [],
   "source": [
    "# converting the train , cv , and test data to the XGBoost format\n",
    "dtrain = xgb.DMatrix(train,label=y_train)\n",
    "dcv = xgb.DMatrix(cv,label=y_cv)\n",
    "dtest = xgb.DMatrix(test)"
   ]
  },
  {
   "cell_type": "code",
   "execution_count": 34,
   "metadata": {},
   "outputs": [],
   "source": [
    "param = {\n",
    "    'max_depth': 2,  # the maximum depth of each tree\n",
    "    'eta': 0.3,  # the training step for each iteration\n",
    "    'objective': 'multi:softprob', \n",
    "    'num_class' : 2,\n",
    "    'min_child_weight' : 3\n",
    "    }  # the number of classes that exist in this datset\n",
    "num_round = 240"
   ]
  },
  {
   "cell_type": "code",
   "execution_count": 35,
   "metadata": {},
   "outputs": [
    {
     "name": "stdout",
     "output_type": "stream",
     "text": [
      "CPU times: user 7.8 s, sys: 182 ms, total: 7.98 s\n",
      "Wall time: 2.35 s\n"
     ]
    }
   ],
   "source": [
    "# Applying the XGBoost on train and cross-validation data \n",
    "%time bst = xgb.train(param, dtrain, num_round)"
   ]
  },
  {
   "cell_type": "code",
   "execution_count": 36,
   "metadata": {},
   "outputs": [],
   "source": [
    "# predicting the MULTIPLE_OFFENSE for the train and cross-validation data\n",
    "train_pred = np.asarray([np.argmax(pred) for pred in bst.predict(dtrain)])\n",
    "cv_pred = np.asarray([np.argmax(pred) for pred in bst.predict(dcv)])"
   ]
  },
  {
   "cell_type": "code",
   "execution_count": 37,
   "metadata": {},
   "outputs": [],
   "source": [
    "# finding the recall score for train and test datasets \n",
    "from sklearn.metrics import recall_score\n",
    "train_score = recall_score(y_train,train_pred)\n",
    "cv_score = recall_score(y_cv,cv_pred)"
   ]
  },
  {
   "cell_type": "code",
   "execution_count": 38,
   "metadata": {},
   "outputs": [
    {
     "name": "stdout",
     "output_type": "stream",
     "text": [
      "Recall score for the training datasets 1.0\n"
     ]
    }
   ],
   "source": [
    "print(\"Recall score for the training datasets {}\".format(train_score))"
   ]
  },
  {
   "cell_type": "code",
   "execution_count": 39,
   "metadata": {},
   "outputs": [
    {
     "name": "stdout",
     "output_type": "stream",
     "text": [
      "Recall score for the cross-validation datasets 0.9997806055287407\n"
     ]
    }
   ],
   "source": [
    "print(\"Recall score for the cross-validation datasets {}\".format(cv_score))"
   ]
  },
  {
   "cell_type": "code",
   "execution_count": 40,
   "metadata": {},
   "outputs": [],
   "source": [
    "# predicting the MULTIPLE_OFFENSE for the test data \n",
    "test_pred = np.asarray([np.argmax(pred) for pred in bst.predict(dtest)])"
   ]
  },
  {
   "cell_type": "code",
   "execution_count": 41,
   "metadata": {},
   "outputs": [],
   "source": [
    "# creating the submission.csv file to submit \n",
    "sub = pd.DataFrame()\n",
    "sub['INCIDENT_ID'] = test_incidentID\n",
    "sub['MULTIPLE_OFFENSE'] = test_pred\n",
    "sub.to_csv('submission.csv',index=False)"
   ]
  }
 ],
 "metadata": {
  "kernelspec": {
   "display_name": "Python 3",
   "language": "python",
   "name": "python3"
  },
  "language_info": {
   "codemirror_mode": {
    "name": "ipython",
    "version": 3
   },
   "file_extension": ".py",
   "mimetype": "text/x-python",
   "name": "python",
   "nbconvert_exporter": "python",
   "pygments_lexer": "ipython3",
   "version": "3.7.6"
  }
 },
 "nbformat": 4,
 "nbformat_minor": 4
}
